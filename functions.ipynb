{
 "cells": [
  {
   "cell_type": "raw",
   "id": "f9bcedef-74ef-412e-9495-09c9a33b07f9",
   "metadata": {},
   "source": [
    "def functionName( parameter):\n",
    "    block of code\n",
    "    return output\n",
    "buit-in functions\n",
    "use-defined functions"
   ]
  },
  {
   "cell_type": "code",
   "execution_count": 4,
   "id": "4c7ce2f1-4922-403a-8f03-b2446970f282",
   "metadata": {},
   "outputs": [
    {
     "data": {
      "text/plain": [
       "'MallA ReddY university'"
      ]
     },
     "execution_count": 4,
     "metadata": {},
     "output_type": "execute_result"
    }
   ],
   "source": [
    "a=\"MallA ReddY university\"\n",
    "a"
   ]
  },
  {
   "cell_type": "code",
   "execution_count": 6,
   "id": "ce958362-8e83-4731-8d1a-d04c8d54029e",
   "metadata": {},
   "outputs": [
    {
     "data": {
      "text/plain": [
       "22"
      ]
     },
     "execution_count": 6,
     "metadata": {},
     "output_type": "execute_result"
    }
   ],
   "source": [
    "len(a)#built in function len with one string parameter "
   ]
  },
  {
   "cell_type": "code",
   "execution_count": 8,
   "id": "5f8b4ca0-b495-4228-bed8-25c5f6633c36",
   "metadata": {},
   "outputs": [],
   "source": [
    "def calArea(r):\n",
    "    return 3.14*r*r\n",
    "# defined function"
   ]
  },
  {
   "cell_type": "code",
   "execution_count": 10,
   "id": "72f98be2-8541-48e9-ae8d-3185779c114b",
   "metadata": {},
   "outputs": [
    {
     "name": "stdin",
     "output_type": "stream",
     "text": [
      " 45.6\n"
     ]
    },
    {
     "name": "stdout",
     "output_type": "stream",
     "text": [
      "area:  6529.1904\n"
     ]
    }
   ],
   "source": [
    "#calling function\n",
    "r=float(input())\n",
    "print(\"area: \",calArea(r))"
   ]
  },
  {
   "cell_type": "code",
   "execution_count": 16,
   "id": "74c49c5d-f0a9-47db-8e7f-e8b285fce468",
   "metadata": {},
   "outputs": [
    {
     "data": {
      "text/plain": [
       "float"
      ]
     },
     "execution_count": 16,
     "metadata": {},
     "output_type": "execute_result"
    }
   ],
   "source": [
    "t=calArea(4)\n",
    "type(t)"
   ]
  },
  {
   "cell_type": "code",
   "execution_count": 24,
   "id": "b7bd2303-b4f1-4426-8926-311867e138cf",
   "metadata": {},
   "outputs": [],
   "source": [
    "def calArea(r):\n",
    "    a=3.14*r*r\n",
    "    print(a)"
   ]
  },
  {
   "cell_type": "code",
   "execution_count": 30,
   "id": "f2f5ec92-c25e-459e-97b2-4c45614279ec",
   "metadata": {},
   "outputs": [
    {
     "name": "stdout",
     "output_type": "stream",
     "text": [
      "50.24\n"
     ]
    },
    {
     "data": {
      "text/plain": [
       "NoneType"
      ]
     },
     "execution_count": 30,
     "metadata": {},
     "output_type": "execute_result"
    }
   ],
   "source": [
    "t2=calArea(4)\n",
    "type(t2)\n"
   ]
  },
  {
   "cell_type": "code",
   "execution_count": 36,
   "id": "a43f01ad-9e8b-4516-8a6c-4e3630abfe40",
   "metadata": {},
   "outputs": [
    {
     "name": "stdin",
     "output_type": "stream",
     "text": [
      " 10\n",
      " 4\n"
     ]
    },
    {
     "name": "stdout",
     "output_type": "stream",
     "text": [
      "40.0\n"
     ]
    }
   ],
   "source": [
    "#function with multiple parameters\n",
    "def rectArea(x,y):\n",
    "    return x*y\n",
    "l=float(input())\n",
    "b=float(input())\n",
    "print(rectArea(l,b))"
   ]
  },
  {
   "cell_type": "code",
   "execution_count": 42,
   "id": "a2126a44-6431-46ee-a8dd-ef5002226856",
   "metadata": {},
   "outputs": [
    {
     "name": "stdout",
     "output_type": "stream",
     "text": [
      "circle area: 314.0\n",
      "rectangle area: 18\n"
     ]
    }
   ],
   "source": [
    "def area(r,l,b):\n",
    "    return 3.14*r*r,l*b\n",
    "ac,ar=area(10,6,3)\n",
    "print(\"circle area:\",ac)\n",
    "print(\"rectangle area:\",ar)"
   ]
  },
  {
   "cell_type": "code",
   "execution_count": 50,
   "id": "5880986a-6c01-4392-8651-5000914915ab",
   "metadata": {},
   "outputs": [
    {
     "data": {
      "text/plain": [
       "(314.0, 18)"
      ]
     },
     "execution_count": 50,
     "metadata": {},
     "output_type": "execute_result"
    }
   ],
   "source": [
    "s=area(10,6,3)\n",
    "s"
   ]
  },
  {
   "cell_type": "code",
   "execution_count": 46,
   "id": "364ecd18-bf93-40a9-ab3e-5f339f71fa9e",
   "metadata": {},
   "outputs": [
    {
     "data": {
      "text/plain": [
       "tuple"
      ]
     },
     "execution_count": 46,
     "metadata": {},
     "output_type": "execute_result"
    }
   ],
   "source": [
    "type(area(10,6,3))"
   ]
  },
  {
   "cell_type": "code",
   "execution_count": 52,
   "id": "b877fda6-84c9-489b-81c3-b316bce10f83",
   "metadata": {},
   "outputs": [
    {
     "data": {
      "text/plain": [
       "314.0"
      ]
     },
     "execution_count": 52,
     "metadata": {},
     "output_type": "execute_result"
    }
   ],
   "source": [
    "s[0]"
   ]
  },
  {
   "cell_type": "code",
   "execution_count": 54,
   "id": "906bc548-5e97-491a-aa96-2ec20d1efeb5",
   "metadata": {},
   "outputs": [],
   "source": [
    "# return type function can be any data type can be list or tuple or set etc"
   ]
  },
  {
   "cell_type": "code",
   "execution_count": null,
   "id": "f09c6dcd-14d8-4f38-9ac7-8a2960649bff",
   "metadata": {},
   "outputs": [],
   "source": []
  }
 ],
 "metadata": {
  "kernelspec": {
   "display_name": "Python 3 (ipykernel)",
   "language": "python",
   "name": "python3"
  },
  "language_info": {
   "codemirror_mode": {
    "name": "ipython",
    "version": 3
   },
   "file_extension": ".py",
   "mimetype": "text/x-python",
   "name": "python",
   "nbconvert_exporter": "python",
   "pygments_lexer": "ipython3",
   "version": "3.12.7"
  }
 },
 "nbformat": 4,
 "nbformat_minor": 5
}
