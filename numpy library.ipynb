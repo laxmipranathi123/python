{
 "cells": [
  {
   "cell_type": "code",
   "execution_count": 2,
   "id": "3a91e392-9294-4e1e-a2b3-004de9d9df18",
   "metadata": {},
   "outputs": [],
   "source": [
    "import numpy as np"
   ]
  },
  {
   "cell_type": "code",
   "execution_count": 6,
   "id": "9c5bffb0-bf19-4306-b1f0-39eb4db9f2a4",
   "metadata": {},
   "outputs": [
    {
     "data": {
      "text/plain": [
       "array([[94, 72, 74, 32, 49, 44, 89, 33],\n",
       "       [67, 89, 98, 69, 68, 72, 50, 65],\n",
       "       [69, 42, 86, 52, 82, 89, 97, 83],\n",
       "       [32, 40, 84, 73, 97, 89, 67, 76],\n",
       "       [70, 63, 50, 62, 68, 43, 85, 42],\n",
       "       [60, 60, 64, 96, 34, 91, 39, 77],\n",
       "       [33, 55, 74, 86, 55, 35, 35, 42]])"
      ]
     },
     "execution_count": 6,
     "metadata": {},
     "output_type": "execute_result"
    }
   ],
   "source": [
    "a=np.random.randint(30,99,(7,8))\n",
    "a"
   ]
  },
  {
   "cell_type": "code",
   "execution_count": 10,
   "id": "c670c68e-7194-48e6-8bd9-8c5e1da181c0",
   "metadata": {},
   "outputs": [
    {
     "ename": "AttributeError",
     "evalue": "'builtin_function_or_method' object has no attribute 'seed'",
     "output_type": "error",
     "traceback": [
      "\u001b[0;31m---------------------------------------------------------------------------\u001b[0m",
      "\u001b[0;31mAttributeError\u001b[0m                            Traceback (most recent call last)",
      "Cell \u001b[0;32mIn[10], line 1\u001b[0m\n\u001b[0;32m----> 1\u001b[0m np\u001b[38;5;241m.\u001b[39mrandom\u001b[38;5;241m.\u001b[39mrandint\u001b[38;5;241m.\u001b[39mseed(a)\n\u001b[1;32m      2\u001b[0m a\n",
      "\u001b[0;31mAttributeError\u001b[0m: 'builtin_function_or_method' object has no attribute 'seed'"
     ]
    }
   ],
   "source": [
    "np.random.randint.seed(a)\n",
    "a"
   ]
  },
  {
   "cell_type": "code",
   "execution_count": 12,
   "id": "3a84c903-53d2-4f28-bd90-71df0404515d",
   "metadata": {},
   "outputs": [
    {
     "data": {
      "text/plain": [
       "2"
      ]
     },
     "execution_count": 12,
     "metadata": {},
     "output_type": "execute_result"
    }
   ],
   "source": [
    "a.ndim"
   ]
  },
  {
   "cell_type": "code",
   "execution_count": 16,
   "id": "f7d72592-5be0-46c4-86d0-9aed13711ecf",
   "metadata": {},
   "outputs": [
    {
     "data": {
      "text/plain": [
       "array([[29, 67, 78, 56, 65, 73, 34, 49, 26],\n",
       "       [55, 60, 53, 30, 75, 71, 35, 79, 39],\n",
       "       [27, 75, 78, 56, 72, 34, 27, 68, 56],\n",
       "       [74, 41, 28, 64, 68, 44, 48, 31, 76],\n",
       "       [45, 41, 66, 60, 32, 23, 33, 48, 71],\n",
       "       [22, 27, 38, 29, 27, 69, 67, 73, 37],\n",
       "       [59, 25, 43, 66, 20, 36, 50, 31, 37],\n",
       "       [22, 29, 45, 62, 52, 43, 63, 59, 25]])"
      ]
     },
     "execution_count": 16,
     "metadata": {},
     "output_type": "execute_result"
    }
   ],
   "source": [
    "b=np.random.randint(20,80,(8,9))\n",
    "b"
   ]
  },
  {
   "cell_type": "code",
   "execution_count": 18,
   "id": "28db0a5f-77a0-49b3-a12c-3479f7fe3767",
   "metadata": {},
   "outputs": [
    {
     "data": {
      "text/plain": [
       "(8, 9)"
      ]
     },
     "execution_count": 18,
     "metadata": {},
     "output_type": "execute_result"
    }
   ],
   "source": [
    "b.shape"
   ]
  },
  {
   "cell_type": "code",
   "execution_count": 20,
   "id": "c0ebb8c0-fa78-4c5c-b6be-b554ac3cfe61",
   "metadata": {},
   "outputs": [
    {
     "data": {
      "text/plain": [
       "2"
      ]
     },
     "execution_count": 20,
     "metadata": {},
     "output_type": "execute_result"
    }
   ],
   "source": [
    "b.ndim"
   ]
  },
  {
   "cell_type": "code",
   "execution_count": 22,
   "id": "c83f5d84-3a0e-45f8-bc20-8019c258d3fc",
   "metadata": {},
   "outputs": [
    {
     "data": {
      "text/plain": [
       "22"
      ]
     },
     "execution_count": 22,
     "metadata": {},
     "output_type": "execute_result"
    }
   ],
   "source": [
    "b[7,0]"
   ]
  },
  {
   "cell_type": "code",
   "execution_count": 24,
   "id": "0417c72b-464f-4f4d-a89c-e8c4c071c369",
   "metadata": {},
   "outputs": [
    {
     "data": {
      "text/plain": [
       "array([[27, 75, 78, 56, 72, 34, 27, 68, 56],\n",
       "       [74, 41, 28, 64, 68, 44, 48, 31, 76],\n",
       "       [45, 41, 66, 60, 32, 23, 33, 48, 71],\n",
       "       [22, 27, 38, 29, 27, 69, 67, 73, 37]])"
      ]
     },
     "execution_count": 24,
     "metadata": {},
     "output_type": "execute_result"
    }
   ],
   "source": [
    "#slicing array array[rs:re:rstep,cs:ce:cstep]\n",
    "b[2:6:1,::]"
   ]
  },
  {
   "cell_type": "code",
   "execution_count": 26,
   "id": "95530a35-3972-4923-bf42-039537166f5a",
   "metadata": {},
   "outputs": [
    {
     "data": {
      "text/plain": [
       "array([[75, 78, 56, 72, 34, 27],\n",
       "       [41, 28, 64, 68, 44, 48],\n",
       "       [41, 66, 60, 32, 23, 33],\n",
       "       [27, 38, 29, 27, 69, 67]])"
      ]
     },
     "execution_count": 26,
     "metadata": {},
     "output_type": "execute_result"
    }
   ],
   "source": [
    "b[2:6:1,1:7]"
   ]
  },
  {
   "cell_type": "code",
   "execution_count": 28,
   "id": "26b1c8f8-722c-41d6-95a7-22c934f68604",
   "metadata": {},
   "outputs": [
    {
     "data": {
      "text/plain": [
       "array([[75, 56, 34],\n",
       "       [41, 64, 44],\n",
       "       [41, 60, 23],\n",
       "       [27, 29, 69]])"
      ]
     },
     "execution_count": 28,
     "metadata": {},
     "output_type": "execute_result"
    }
   ],
   "source": [
    "b[2:6:1,1:7:2]"
   ]
  },
  {
   "cell_type": "code",
   "execution_count": 30,
   "id": "d76dd4b9-2a52-491d-8248-d3afb9839e0f",
   "metadata": {},
   "outputs": [
    {
     "data": {
      "text/plain": [
       "array([[60, 53, 30, 75, 71, 35],\n",
       "       [75, 78, 56, 72, 34, 27],\n",
       "       [41, 28, 64, 68, 44, 48],\n",
       "       [41, 66, 60, 32, 23, 33]])"
      ]
     },
     "execution_count": 30,
     "metadata": {},
     "output_type": "execute_result"
    }
   ],
   "source": [
    "b[1:5,1:7]"
   ]
  },
  {
   "cell_type": "code",
   "execution_count": null,
   "id": "9b3013a5-17a4-4f88-bc2b-7e66b684f915",
   "metadata": {},
   "outputs": [],
   "source": []
  }
 ],
 "metadata": {
  "kernelspec": {
   "display_name": "Python 3 (ipykernel)",
   "language": "python",
   "name": "python3"
  },
  "language_info": {
   "codemirror_mode": {
    "name": "ipython",
    "version": 3
   },
   "file_extension": ".py",
   "mimetype": "text/x-python",
   "name": "python",
   "nbconvert_exporter": "python",
   "pygments_lexer": "ipython3",
   "version": "3.12.7"
  }
 },
 "nbformat": 4,
 "nbformat_minor": 5
}
