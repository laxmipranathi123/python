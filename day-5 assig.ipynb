{
 "cells": [
  {
   "cell_type": "raw",
   "id": "2274fab3-c85b-44e9-bc98-c19ef328a422",
   "metadata": {},
   "source": [
    "1)Write a Python program that performs the following tasks:\n",
    "\n",
    "1. Ask the user to enter a positive integer `n`.\n",
    "2. Use a `for` loop to print all numbers from `1` to `n` on separate lines.\n",
    "3. Use a `while` loop to calculate the sum of all numbers from `1` to `n` and print the result.\n",
    "\n",
    "\n",
    "2)Write a Python program that includes a user-defined function to perform the following tasks:\n",
    "\n",
    "1. Define a function named calculate_square that takes a single argument `n` and returns the square of `n`.\n",
    "2. In the main program, ask the user to input a positive integer.\n",
    "3. Call the calculate_square function with the user-provided number and display the result.\n",
    "\n",
    "\n"
   ]
  },
  {
   "cell_type": "code",
   "execution_count": 8,
   "id": "be166b12-c926-41ca-9c10-1a2272d6424a",
   "metadata": {},
   "outputs": [
    {
     "name": "stdin",
     "output_type": "stream",
     "text": [
      " 5\n"
     ]
    },
    {
     "name": "stdout",
     "output_type": "stream",
     "text": [
      "numbers in range of 1,n\n",
      "1\n",
      "2\n",
      "3\n",
      "4\n",
      "5\n",
      "sum of integers from 1,n:  15\n"
     ]
    }
   ],
   "source": [
    "#1\n",
    "n=int(input())\n",
    "print(\"numbers in range of 1,n\")\n",
    "for i in range(1,n+1):\n",
    "    print(i)\n",
    "sum=0\n",
    "i=1\n",
    "while i<=n:\n",
    "    sum+=i\n",
    "    i+=1\n",
    "print(\"sum of integers from 1,n: \",sum)"
   ]
  },
  {
   "cell_type": "code",
   "execution_count": 10,
   "id": "00d78c87-ec29-4de0-9940-760a1ce42974",
   "metadata": {},
   "outputs": [
    {
     "name": "stdin",
     "output_type": "stream",
     "text": [
      "Enter the number:  4\n"
     ]
    },
    {
     "name": "stdout",
     "output_type": "stream",
     "text": [
      "Square of 4   16\n"
     ]
    }
   ],
   "source": [
    "#2\n",
    "def calculate_square(n):\n",
    "    return n**2\n",
    "n=int(input(\"Enter the number: \"))\n",
    "print(\"Square of\",n,\" \",calculate_square(n))"
   ]
  },
  {
   "cell_type": "code",
   "execution_count": null,
   "id": "ad6301e1-c4fe-4a40-bcd4-94c15fdb0e30",
   "metadata": {},
   "outputs": [],
   "source": []
  }
 ],
 "metadata": {
  "kernelspec": {
   "display_name": "Python 3 (ipykernel)",
   "language": "python",
   "name": "python3"
  },
  "language_info": {
   "codemirror_mode": {
    "name": "ipython",
    "version": 3
   },
   "file_extension": ".py",
   "mimetype": "text/x-python",
   "name": "python",
   "nbconvert_exporter": "python",
   "pygments_lexer": "ipython3",
   "version": "3.12.7"
  }
 },
 "nbformat": 4,
 "nbformat_minor": 5
}
